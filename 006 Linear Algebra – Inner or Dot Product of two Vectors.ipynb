{
 "cells": [
  {
   "cell_type": "code",
   "execution_count": 1,
   "id": "76a6b6cb",
   "metadata": {},
   "outputs": [],
   "source": [
    "import numpy as np"
   ]
  },
  {
   "cell_type": "code",
   "execution_count": 2,
   "id": "7cf0c854",
   "metadata": {},
   "outputs": [],
   "source": [
    "#In Python, one way to calculate the dot product would be taking the\n",
    "# sum of a list comprehension performing element wise multiplication.\n",
    "\n",
    "def inner_dot(x, y):\n",
    "    return sum(x_i * y_i for x_i, y_i in zip(x, y))"
   ]
  },
  {
   "cell_type": "code",
   "execution_count": 3,
   "id": "08364e25",
   "metadata": {},
   "outputs": [
    {
     "name": "stdout",
     "output_type": "stream",
     "text": [
      "The dot product of x and y is:  38\n"
     ]
    }
   ],
   "source": [
    "x = np.array([2, 7, 1])\n",
    "y = np.array([8, 2, 8])\n",
    "\n",
    "print(\"The dot product of x and y is: \", inner_dot(x, y))"
   ]
  },
  {
   "cell_type": "code",
   "execution_count": 4,
   "id": "98071f3d",
   "metadata": {},
   "outputs": [
    {
     "name": "stdout",
     "output_type": "stream",
     "text": [
      "The dot product of x and y is:  38\n"
     ]
    }
   ],
   "source": [
    "#Alternatively, we can use the np.inner() function.\n",
    "dot_product = np.inner(x, y)\n",
    "print(\"The dot product of x and y is: \", dot_product)"
   ]
  },
  {
   "cell_type": "code",
   "execution_count": 5,
   "id": "71f9ab3a",
   "metadata": {},
   "outputs": [
    {
     "name": "stdout",
     "output_type": "stream",
     "text": [
      "The dot product of x and y is:  38\n"
     ]
    }
   ],
   "source": [
    "# We can also use numpy.dot() function\n",
    "# This must be used for 2D and 3D arrays\n",
    "print(\"The dot product of x and y is: \", np.dot(x, y))"
   ]
  },
  {
   "cell_type": "code",
   "execution_count": 6,
   "id": "52cd4399",
   "metadata": {},
   "outputs": [
    {
     "name": "stdout",
     "output_type": "stream",
     "text": [
      "The dot product of x and y is:  38\n"
     ]
    }
   ],
   "source": [
    "# From Python 3.5 we can use an explicit operator @\n",
    "# for the dot product, so you can write the following\n",
    "print(\"The dot product of x and y is: \", x @ y)"
   ]
  },
  {
   "cell_type": "code",
   "execution_count": 7,
   "id": "dfcb8d49",
   "metadata": {},
   "outputs": [],
   "source": [
    "import math"
   ]
  },
  {
   "cell_type": "code",
   "execution_count": 8,
   "id": "c7c17cbc",
   "metadata": {},
   "outputs": [],
   "source": [
    "def calculate_angle(u, v):\n",
    "    dot_product = np.dot(u, v)\n",
    "\n",
    "    u_mag = np.linalg.norm(u)\n",
    "    v_mag = np.linalg.norm(v)\n",
    "    magnitude = u_mag * v_mag\n",
    "    \n",
    "    # math.acos is just the inverse of cos\n",
    "    return math.degrees(math.acos(dot_product / magnitude))"
   ]
  },
  {
   "cell_type": "code",
   "execution_count": 9,
   "id": "abd9a299",
   "metadata": {},
   "outputs": [
    {
     "name": "stdout",
     "output_type": "stream",
     "text": [
      "45.00000000000001\n"
     ]
    }
   ],
   "source": [
    "print(calculate_angle([1, 0], [1, 1]))"
   ]
  },
  {
   "cell_type": "code",
   "execution_count": null,
   "id": "a37ad240",
   "metadata": {},
   "outputs": [],
   "source": []
  }
 ],
 "metadata": {
  "kernelspec": {
   "display_name": "Python 3 (ipykernel)",
   "language": "python",
   "name": "python3"
  },
  "language_info": {
   "codemirror_mode": {
    "name": "ipython",
    "version": 3
   },
   "file_extension": ".py",
   "mimetype": "text/x-python",
   "name": "python",
   "nbconvert_exporter": "python",
   "pygments_lexer": "ipython3",
   "version": "3.9.12"
  }
 },
 "nbformat": 4,
 "nbformat_minor": 5
}
