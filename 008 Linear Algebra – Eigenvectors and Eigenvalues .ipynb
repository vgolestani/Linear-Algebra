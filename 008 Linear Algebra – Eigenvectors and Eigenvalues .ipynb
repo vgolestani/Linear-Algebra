{
 "cells": [
  {
   "cell_type": "code",
   "execution_count": 2,
   "id": "2033d806",
   "metadata": {},
   "outputs": [],
   "source": [
    "import numpy as np\n",
    "import matplotlib.pyplot as plt"
   ]
  },
  {
   "cell_type": "code",
   "execution_count": 3,
   "id": "57c07956",
   "metadata": {},
   "outputs": [
    {
     "name": "stdout",
     "output_type": "stream",
     "text": [
      "[[3 1]\n",
      " [0 2]]\n",
      "Eigenvalues:  [3. 2.]\n",
      "Eigenvectors are columns in the matrix:\n",
      " [[ 1.         -0.70710678]\n",
      " [ 0.          0.70710678]]\n"
     ]
    }
   ],
   "source": [
    "A = np.array ( [ [3,1] , [0,2] ]  ) \n",
    "print(A)\n",
    "\n",
    "eig_val, eig_vec  =  np.linalg.eig (A)\n",
    "\n",
    "print(\"Eigenvalues: \", eig_val)\n",
    "print(\"Eigenvectors are columns in the matrix:\\n\",eig_vec)"
   ]
  },
  {
   "cell_type": "code",
   "execution_count": 4,
   "id": "137b1d82",
   "metadata": {},
   "outputs": [
    {
     "data": {
      "image/png": "[encoded data removed]",
      "text/plain": [
       "<Figure size 432x288 with 1 Axes>"
      ]
     },
     "metadata": {
      "needs_background": "light"
     },
     "output_type": "display_data"
    },
    {
     "data": {
      "text/plain": [
       "<Figure size 432x288 with 0 Axes>"
      ]
     },
     "metadata": {},
     "output_type": "display_data"
    }
   ],
   "source": [
    "plt.quiver( [0,0] , [0,0], eig_vec[0,:], eig_vec[1,:], angles = 'xy', scale_units = 'xy', scale = 1  )\n",
    "plt.xlim(-2, 2)\n",
    "plt.ylim(-2, 2)\n",
    "plt.grid('on')\n",
    "plt.show()\n",
    "plt.savefig(\"eigenvectors.png\", dpi = 800)"
   ]
  },
  {
   "cell_type": "code",
   "execution_count": null,
   "id": "94cadb42",
   "metadata": {},
   "outputs": [],
   "source": []
  }
 ],
 "metadata": {
  "kernelspec": {
   "display_name": "Python 3 (ipykernel)",
   "language": "python",
   "name": "python3"
  },
  "language_info": {
   "codemirror_mode": {
    "name": "ipython",
    "version": 3
   },
   "file_extension": ".py",
   "mimetype": "text/x-python",
   "name": "python",
   "nbconvert_exporter": "python",
   "pygments_lexer": "ipython3",
   "version": "3.9.12"
  }
 },
 "nbformat": 4,
 "nbformat_minor": 5
}
