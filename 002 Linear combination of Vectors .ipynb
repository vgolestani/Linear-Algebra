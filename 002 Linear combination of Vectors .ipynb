{
 "cells": [
  {
   "cell_type": "code",
   "execution_count": 1,
   "id": "e357e28e",
   "metadata": {},
   "outputs": [],
   "source": [
    "import numpy as np\n",
    "import matplotlib.pyplot as plt\n",
    "\n",
    "%matplotlib inline"
   ]
  },
  {
   "cell_type": "code",
   "execution_count": 2,
   "id": "78016eec",
   "metadata": {},
   "outputs": [
    {
     "name": "stdout",
     "output_type": "stream",
     "text": [
      "[[5]\n",
      " [4]]\n"
     ]
    }
   ],
   "source": [
    "# Create a vector\n",
    "vec = np.array([[5],[4]])\n",
    "print(vec)\n"
   ]
  },
  {
   "cell_type": "code",
   "execution_count": 7,
   "id": "5c034da9",
   "metadata": {},
   "outputs": [
    {
     "data": {
      "image/png": "[encoded data removed]",
      "text/plain": [
       "<Figure size 432x432 with 1 Axes>"
      ]
     },
     "metadata": {
      "needs_background": "light"
     },
     "output_type": "display_data"
    }
   ],
   "source": [
    "origin = np.zeros(vec.shape)\n",
    "\n",
    "plt.figure(figsize=(6,6))\n",
    "plt.quiver(*origin, *vec, color=['r'], scale=1, units='xy')\n",
    "\n",
    "plt.grid()\n",
    "plt.xlim(-10,10)\n",
    "plt.ylim(-10,10)\n",
    "plt.gca().set_aspect('equal')\n",
    "plt.show()\n"
   ]
  },
  {
   "cell_type": "code",
   "execution_count": 8,
   "id": "4a8fd56c",
   "metadata": {},
   "outputs": [
    {
     "name": "stdout",
     "output_type": "stream",
     "text": [
      "x: [5]\n",
      "y: [4]\n"
     ]
    }
   ],
   "source": [
    "x_coord = vec[0]\n",
    "y_coord = vec[1]\n",
    "\n",
    "print(\"x:\", x_coord)\n",
    "print(\"y:\", y_coord)"
   ]
  },
  {
   "cell_type": "code",
   "execution_count": 11,
   "id": "8f8b8a76",
   "metadata": {},
   "outputs": [
    {
     "name": "stdout",
     "output_type": "stream",
     "text": [
      "[[5]\n",
      " [4]]\n"
     ]
    }
   ],
   "source": [
    "# As shown in the theory above, if we multiply vectors i and j by scalar \n",
    "# we will get a vector. Let's see how we can reconstruct the original vector\n",
    "# if we know the amount of movement over x and y axis.\n",
    "\n",
    "i = np.array([[1],[0]])\n",
    "j = np.array([[0],[1]])\n",
    "\n",
    "vec_new = i*x_coord + j*y_coord\n",
    "print(vec_new)\n"
   ]
  },
  {
   "cell_type": "code",
   "execution_count": 12,
   "id": "2414c00f",
   "metadata": {},
   "outputs": [],
   "source": [
    "# Linear combination of vectors\n",
    "\n",
    "v = np.array([[3],[1]])\n",
    "w = np.array([[-2],[-4]])"
   ]
  },
  {
   "cell_type": "code",
   "execution_count": 13,
   "id": "4011689b",
   "metadata": {},
   "outputs": [],
   "source": [
    "a = 1.5\n",
    "b = 1"
   ]
  },
  {
   "cell_type": "code",
   "execution_count": 14,
   "id": "309e6e1c",
   "metadata": {},
   "outputs": [
    {
     "name": "stdout",
     "output_type": "stream",
     "text": [
      "[[ 2.5]\n",
      " [-2.5]]\n"
     ]
    }
   ],
   "source": [
    "vec_new = a*v + b*w\n",
    "\n",
    "print(vec_new)"
   ]
  },
  {
   "cell_type": "code",
   "execution_count": 15,
   "id": "5faa9e6e",
   "metadata": {},
   "outputs": [
    {
     "data": {
      "image/png": "[encoded data removed]",
      "text/plain": [
       "<Figure size 432x432 with 1 Axes>"
      ]
     },
     "metadata": {
      "needs_background": "light"
     },
     "output_type": "display_data"
    }
   ],
   "source": [
    "origin = np.zeros(vec.shape)\n",
    "\n",
    "plt.figure(figsize=(6,6))\n",
    "plt.quiver(*origin, *vec_new, color=['r'], scale=1, units='xy')\n",
    "plt.quiver(*origin, *v, color=['g'], scale=1, units='xy')\n",
    "plt.quiver(*origin, *w, color=['b'], scale=1, units='xy')\n",
    "\n",
    "plt.grid()\n",
    "plt.xlim(-5,5)\n",
    "plt.ylim(-5,5)\n",
    "plt.text(v[0], v[1], 'v')\n",
    "plt.text(w[0], w[1], 'w')\n",
    "plt.text(vec_new[0], vec_new[1], 'Linear combination of a*v and b*w')\n",
    "plt.gca().set_aspect('equal')\n",
    "plt.show()"
   ]
  },
  {
   "cell_type": "code",
   "execution_count": null,
   "id": "a6d9bc6f",
   "metadata": {},
   "outputs": [],
   "source": []
  }
 ],
 "metadata": {
  "kernelspec": {
   "display_name": "Python 3 (ipykernel)",
   "language": "python",
   "name": "python3"
  },
  "language_info": {
   "codemirror_mode": {
    "name": "ipython",
    "version": 3
   },
   "file_extension": ".py",
   "mimetype": "text/x-python",
   "name": "python",
   "nbconvert_exporter": "python",
   "pygments_lexer": "ipython3",
   "version": "3.9.13"
  }
 },
 "nbformat": 4,
 "nbformat_minor": 5
}
