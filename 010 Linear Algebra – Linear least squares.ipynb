{
 "cells": [
  {
   "cell_type": "code",
   "execution_count": 1,
   "id": "e2a61435",
   "metadata": {},
   "outputs": [],
   "source": [
    "import numpy as np"
   ]
  },
  {
   "cell_type": "code",
   "execution_count": 2,
   "id": "7e4a42d5",
   "metadata": {},
   "outputs": [],
   "source": [
    "A = np.array ( [[2,-1,0] , [0,1,2]] ).T\n"
   ]
  },
  {
   "cell_type": "code",
   "execution_count": 3,
   "id": "b6e76564",
   "metadata": {},
   "outputs": [
    {
     "data": {
      "text/plain": [
       "(3, 1)"
      ]
     },
     "execution_count": 3,
     "metadata": {},
     "output_type": "execute_result"
    }
   ],
   "source": [
    "b = np.array ( [[1, 0 ,- 1 ]] ).T\n",
    "b.shape"
   ]
  },
  {
   "cell_type": "code",
   "execution_count": 4,
   "id": "baebd1e5",
   "metadata": {},
   "outputs": [
    {
     "name": "stdout",
     "output_type": "stream",
     "text": [
      "[[ 5 -1]\n",
      " [-1  5]]\n"
     ]
    }
   ],
   "source": [
    "C = np.matmul(A.T , A)\n",
    "print(C)"
   ]
  },
  {
   "cell_type": "code",
   "execution_count": 7,
   "id": "71d52015",
   "metadata": {},
   "outputs": [
    {
     "data": {
      "text/plain": [
       "array([[0.20833333, 0.04166667],\n",
       "       [0.04166667, 0.20833333]])"
      ]
     },
     "execution_count": 7,
     "metadata": {},
     "output_type": "execute_result"
    }
   ],
   "source": [
    "inv_mat = np.linalg.inv(C)\n",
    "inv_mat"
   ]
  },
  {
   "cell_type": "code",
   "execution_count": 6,
   "id": "e438f703",
   "metadata": {},
   "outputs": [
    {
     "name": "stdout",
     "output_type": "stream",
     "text": [
      "[[ 0.33333333]\n",
      " [-0.33333333]]\n"
     ]
    }
   ],
   "source": [
    "D = np.matmul(inv_mat , A.T) \n",
    "x = np.matmul(D, b)\n",
    "print(x)"
   ]
  },
  {
   "cell_type": "code",
   "execution_count": null,
   "id": "f68e9119",
   "metadata": {},
   "outputs": [],
   "source": []
  }
 ],
 "metadata": {
  "kernelspec": {
   "display_name": "Python 3 (ipykernel)",
   "language": "python",
   "name": "python3"
  },
  "language_info": {
   "codemirror_mode": {
    "name": "ipython",
    "version": 3
   },
   "file_extension": ".py",
   "mimetype": "text/x-python",
   "name": "python",
   "nbconvert_exporter": "python",
   "pygments_lexer": "ipython3",
   "version": "3.9.13"
  }
 },
 "nbformat": 4,
 "nbformat_minor": 5
}
